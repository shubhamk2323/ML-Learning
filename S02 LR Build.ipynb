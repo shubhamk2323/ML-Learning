{
 "cells": [
  {
   "cell_type": "code",
   "execution_count": 8,
   "id": "eae0164f-f2f0-4c94-a2c5-6de2bbc3b6c4",
   "metadata": {},
   "outputs": [],
   "source": [
    "class NewLR:\n",
    "    def __init__(self):\n",
    "        self.m= None\n",
    "        self.b= None\n",
    "    def fit(self, X_train, y_train):\n",
    "        n=0\n",
    "        d=0\n",
    "        for i in range(X_train.shape[0]):\n",
    "            n+= ((X_train[i]- X_train.mean())*(y_train[i]- y_train.mean()))\n",
    "            d+= ((X_train[i]- X_train.mean())*(X_train[i]- X_train.mean()))\n",
    "        self.m= n/d\n",
    "        self.b= y_train.mean()- (self.m * X_train.mean())\n",
    "        print(self.m)\n",
    "        print(self.b)\n",
    "    def predict(self, X_test):\n",
    "        print(X_test)\n",
    "        return self.m * X_test + self.b"
   ]
  },
  {
   "cell_type": "code",
   "execution_count": 3,
   "id": "476b7663-1a46-45ab-a290-ad03f56337e3",
   "metadata": {},
   "outputs": [],
   "source": [
    "import numpy as np\n",
    "import pandas as pd\n",
    "df= pd.read_csv('../Datasets/placement1.csv')"
   ]
  },
  {
   "cell_type": "code",
   "execution_count": 4,
   "id": "73d25a81-eb86-42be-87ab-4182d7608ae8",
   "metadata": {},
   "outputs": [
    {
     "data": {
      "text/html": [
       "<div>\n",
       "<style scoped>\n",
       "    .dataframe tbody tr th:only-of-type {\n",
       "        vertical-align: middle;\n",
       "    }\n",
       "\n",
       "    .dataframe tbody tr th {\n",
       "        vertical-align: top;\n",
       "    }\n",
       "\n",
       "    .dataframe thead th {\n",
       "        text-align: right;\n",
       "    }\n",
       "</style>\n",
       "<table border=\"1\" class=\"dataframe\">\n",
       "  <thead>\n",
       "    <tr style=\"text-align: right;\">\n",
       "      <th></th>\n",
       "      <th>cgpa</th>\n",
       "      <th>package</th>\n",
       "    </tr>\n",
       "  </thead>\n",
       "  <tbody>\n",
       "    <tr>\n",
       "      <th>0</th>\n",
       "      <td>6.89</td>\n",
       "      <td>3.26</td>\n",
       "    </tr>\n",
       "    <tr>\n",
       "      <th>1</th>\n",
       "      <td>5.12</td>\n",
       "      <td>1.98</td>\n",
       "    </tr>\n",
       "    <tr>\n",
       "      <th>2</th>\n",
       "      <td>7.82</td>\n",
       "      <td>3.25</td>\n",
       "    </tr>\n",
       "    <tr>\n",
       "      <th>3</th>\n",
       "      <td>7.42</td>\n",
       "      <td>3.67</td>\n",
       "    </tr>\n",
       "    <tr>\n",
       "      <th>4</th>\n",
       "      <td>6.94</td>\n",
       "      <td>3.57</td>\n",
       "    </tr>\n",
       "  </tbody>\n",
       "</table>\n",
       "</div>"
      ],
      "text/plain": [
       "   cgpa  package\n",
       "0  6.89     3.26\n",
       "1  5.12     1.98\n",
       "2  7.82     3.25\n",
       "3  7.42     3.67\n",
       "4  6.94     3.57"
      ]
     },
     "execution_count": 4,
     "metadata": {},
     "output_type": "execute_result"
    }
   ],
   "source": [
    "df.head()"
   ]
  },
  {
   "cell_type": "code",
   "execution_count": 5,
   "id": "30d86206-cc58-41a7-8778-8ec32d6efe09",
   "metadata": {},
   "outputs": [],
   "source": [
    "X= df.iloc[:,0].values\n",
    "y= df.iloc[:,1].values"
   ]
  },
  {
   "cell_type": "code",
   "execution_count": 6,
   "id": "497ca388-3a2b-4bb1-b274-9c9a0399a441",
   "metadata": {},
   "outputs": [],
   "source": [
    "from sklearn.model_selection import train_test_split\n",
    "X_train, X_test, y_train, y_test= train_test_split(X, y, test_size=0.2, random_state=2)"
   ]
  },
  {
   "cell_type": "code",
   "execution_count": 9,
   "id": "7d49facc-dd29-4095-9460-39177154e208",
   "metadata": {},
   "outputs": [
    {
     "name": "stdout",
     "output_type": "stream",
     "text": [
      "0.5579519734250721\n",
      "-0.8961119222429152\n"
     ]
    }
   ],
   "source": [
    "lr= NewLR()\n",
    "lr.fit(X_train, y_train)"
   ]
  },
  {
   "cell_type": "code",
   "execution_count": 10,
   "id": "5040d862-a122-43cb-b3b2-38d3626e994d",
   "metadata": {},
   "outputs": [
    {
     "data": {
      "text/plain": [
       "np.float64(7.14)"
      ]
     },
     "execution_count": 10,
     "metadata": {},
     "output_type": "execute_result"
    }
   ],
   "source": [
    "X_train[0]"
   ]
  },
  {
   "cell_type": "code",
   "execution_count": 11,
   "id": "263a7305-a90a-40e8-b231-19c0b223afd1",
   "metadata": {},
   "outputs": [
    {
     "data": {
      "text/plain": [
       "np.float64(6.989937500000001)"
      ]
     },
     "execution_count": 11,
     "metadata": {},
     "output_type": "execute_result"
    }
   ],
   "source": [
    "X_train.mean()"
   ]
  },
  {
   "cell_type": "code",
   "execution_count": 12,
   "id": "95bc504d-01f7-4ed4-bdd4-90429a3c96fd",
   "metadata": {},
   "outputs": [
    {
     "name": "stdout",
     "output_type": "stream",
     "text": [
      "7.51\n",
      "3.294107398179376\n"
     ]
    }
   ],
   "source": [
    "print(lr.predict(7.51))"
   ]
  },
  {
   "cell_type": "code",
   "execution_count": 13,
   "id": "94b6a323-ecf1-4d5f-874c-3a2b653ea9f9",
   "metadata": {},
   "outputs": [],
   "source": [
    "## sad"
   ]
  },
  {
   "cell_type": "code",
   "execution_count": null,
   "id": "8f2e8178-e18f-4a18-9cc7-4b6008d91451",
   "metadata": {},
   "outputs": [],
   "source": []
  }
 ],
 "metadata": {
  "kernelspec": {
   "display_name": "Python 3 (ipykernel)",
   "language": "python",
   "name": "python3"
  },
  "language_info": {
   "codemirror_mode": {
    "name": "ipython",
    "version": 3
   },
   "file_extension": ".py",
   "mimetype": "text/x-python",
   "name": "python",
   "nbconvert_exporter": "python",
   "pygments_lexer": "ipython3",
   "version": "3.13.5"
  }
 },
 "nbformat": 4,
 "nbformat_minor": 5
}
